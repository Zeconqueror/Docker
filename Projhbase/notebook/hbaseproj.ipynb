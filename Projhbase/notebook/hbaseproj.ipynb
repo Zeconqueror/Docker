{
 "cells": [
  {
   "cell_type": "code",
   "execution_count": null,
   "id": "87c19279-a493-4414-8047-2318f1953888",
   "metadata": {},
   "outputs": [],
   "source": [
    "import pandas as pd\n",
    "import matplotlib.pyplot as plt\n",
    "import seaborn as sns\n",
    "\n",
    "df = pd.read_csv('sample_crimes_data.csv')"
   ]
  },
  {
   "cell_type": "code",
   "execution_count": null,
   "id": "04478ca8-2d10-46f2-8330-474535f4e0cd",
   "metadata": {},
   "outputs": [],
   "source": [
    "df.head()         "
   ]
  },
  {
   "cell_type": "code",
   "execution_count": null,
   "id": "f80cd590-277f-41b0-a8c0-857bdc954259",
   "metadata": {},
   "outputs": [],
   "source": [
    "df.info()        "
   ]
  },
  {
   "cell_type": "code",
   "execution_count": null,
   "id": "e2562d1b-ee59-448d-864c-d4441c5eae5e",
   "metadata": {},
   "outputs": [],
   "source": [
    "print(df.columns.tolist())"
   ]
  },
  {
   "cell_type": "code",
   "execution_count": null,
   "id": "e351cc65-8bc0-44b7-9d05-ccba551f8b79",
   "metadata": {},
   "outputs": [],
   "source": [
    "print(df.shape)"
   ]
  },
  {
   "cell_type": "code",
   "execution_count": null,
   "id": "7a596f13-a537-4bac-a406-efc597340412",
   "metadata": {},
   "outputs": [],
   "source": [
    "print (df)"
   ]
  },
  {
   "cell_type": "code",
   "execution_count": null,
   "id": "369550d3-6298-461a-a43d-1145ad1b2108",
   "metadata": {},
   "outputs": [],
   "source": [
    "df.describe()    "
   ]
  },
  {
   "cell_type": "code",
   "execution_count": null,
   "id": "a1a31a00-d2ee-4dfc-82a0-9ca427480db3",
   "metadata": {},
   "outputs": [],
   "source": [
    "df = df.drop_duplicates()"
   ]
  },
  {
   "cell_type": "code",
   "execution_count": null,
   "id": "d83a6203-b0d1-4a2b-b07e-5f628c3a85f5",
   "metadata": {},
   "outputs": [],
   "source": [
    "print(f\"Nombre de lignes : {df.shape[0]}\")\n",
    "print(f\"Nombre de colonnes : {df.shape[1]}\")"
   ]
  },
  {
   "cell_type": "code",
   "execution_count": null,
   "id": "2dc7c003-28fd-432d-a0c3-24dc384e86bc",
   "metadata": {},
   "outputs": [],
   "source": [
    "df = pd.read_csv('sample_crimes_data.csv')\n",
    "# Nettoyage\n",
    "df.columns = df.columns.str.strip().str.lower().str.replace(' ', '_')\n"
   ]
  },
  {
   "cell_type": "code",
   "execution_count": null,
   "id": "24963daf-dd80-4784-a578-45ef74bf1949",
   "metadata": {},
   "outputs": [],
   "source": [
    "print(\"Données manquantes par colonne :\")\n",
    "print(df.isnull().sum())"
   ]
  },
  {
   "cell_type": "code",
   "execution_count": null,
   "id": "4b49567c-54cb-4767-938b-0a1152943eb5",
   "metadata": {},
   "outputs": [],
   "source": [
    "print(\"Top 05 types de crimes :\")\n",
    "print(df['crm_cd_desc'].value_counts().head(5))"
   ]
  },
  {
   "cell_type": "code",
   "execution_count": null,
   "id": "8be56857-32ee-4ae2-bbb8-fe22db86cf3b",
   "metadata": {},
   "outputs": [],
   "source": [
    "print(\"Top 05 zones géographiques :\")\n",
    "print(df['area_name'].value_counts().head(5))"
   ]
  },
  {
   "cell_type": "code",
   "execution_count": null,
   "id": "f5747229-4b1a-459a-82aa-3e431d4ef4d6",
   "metadata": {},
   "outputs": [],
   "source": [
    "print(df['date_occ'].head())"
   ]
  },
  {
   "cell_type": "code",
   "execution_count": null,
   "id": "dea37b75-8477-493c-9a6b-aa42d0f76db4",
   "metadata": {},
   "outputs": [],
   "source": [
    "df['date_occ'] = pd.to_datetime(df['date_occ'], errors='coerce')"
   ]
  },
  {
   "cell_type": "code",
   "execution_count": null,
   "id": "8f747a51-eee3-475b-b07d-7de76478dc67",
   "metadata": {},
   "outputs": [],
   "source": [
    "df['Year'] = df['date_occ'].dt.year\n",
    "df['Month'] = df['date_occ'].dt.month"
   ]
  },
  {
   "cell_type": "code",
   "execution_count": null,
   "id": "209a9701-7e90-4ba8-8dc6-8eedfbfa8637",
   "metadata": {},
   "outputs": [],
   "source": [
    "crimes_by_year = df['Year'].value_counts().sort_index()\n",
    "plt.figure(figsize=(5,5))\n",
    "sns.barplot(x=crimes_by_year.index, y=crimes_by_year.values)\n",
    "plt.title(\"Crimes par année\")\n",
    "plt.xlabel(\"Année\")\n",
    "plt.ylabel(\"Nbre de crimes\")\n",
    "plt.tight_layout()\n",
    "plt.show()"
   ]
  },
  {
   "cell_type": "code",
   "execution_count": null,
   "id": "b42e0525-4504-4bb9-8fcc-d92b610c5162",
   "metadata": {},
   "outputs": [],
   "source": [
    "# Crimes par mois \n",
    "crimes_by_month = df['Month'].value_counts().sort_index()\n",
    "plt.figure(figsize=(8,5))\n",
    "sns.barplot(x=crimes_by_month.index, y=crimes_by_month.values)\n",
    "plt.title(\"Crimes par mois\")\n",
    "plt.xlabel(\"Mois\")\n",
    "plt.ylabel(\"Nbre de crimes\")\n",
    "plt.tight_layout()\n",
    "plt.show()"
   ]
  },
  {
   "cell_type": "code",
   "execution_count": null,
   "id": "df83c694-a1f4-4b55-8de7-ba99e4472498",
   "metadata": {},
   "outputs": [],
   "source": [
    "# Heatmap crimes par mois et année\n",
    "crimes_pivot = df.pivot_table(index='Year', columns='Month', values='dr_no', aggfunc='count')\n",
    "plt.figure(figsize=(10,6))\n",
    "sns.heatmap(crimes_pivot, cmap=\"YlGnBu\", annot=True, fmt=\"g\")\n",
    "plt.title(\"Heatmap des crimes par mois et année\")\n",
    "plt.xlabel(\"Mois\")\n",
    "plt.ylabel(\"Année\")\n",
    "plt.tight_layout()\n",
    "plt.show()\n"
   ]
  },
  {
   "cell_type": "code",
   "execution_count": null,
   "id": "084bf8ca-6bc6-4d61-b7a3-d28695ace149",
   "metadata": {},
   "outputs": [],
   "source": [
    "!pip install happybase\n",
    "import happybase\n",
    "connection = happybase.Connection('hbase')\n",
    "connection.open()\n"
   ]
  },
  {
   "cell_type": "code",
   "execution_count": null,
   "id": "118b076c-1bbc-44be-b2ec-e8c9c5d36284",
   "metadata": {},
   "outputs": [],
   "source": [
    "df = pd.read_csv('sample_crimes_data.csv')\n",
    "# Nettoyage\n",
    "df.columns = df.columns.str.strip().str.lower().str.replace(' ', '_')\n"
   ]
  },
  {
   "cell_type": "code",
   "execution_count": null,
   "id": "8e968587-3a78-4137-9511-fc488bf96a7a",
   "metadata": {},
   "outputs": [],
   "source": [
    "df"
   ]
  },
  {
   "cell_type": "code",
   "execution_count": null,
   "id": "ea3ff518-4c44-4254-ace0-088e287eb563",
   "metadata": {},
   "outputs": [],
   "source": [
    "df['occurred'] = pd.to_datetime(df['date_occ'], format=\"%m/%d/%Y %I:%M:%S %p\").dt.strftime(\"%Y%m%d\")\n",
    "df['reported'] = pd.to_datetime(df['date_rptd'], format=\"%m/%d/%Y %I:%M:%S %p\").dt.strftime(\"%Y%m%d\")"
   ]
  },
  {
   "cell_type": "code",
   "execution_count": null,
   "id": "35d79cc9-8d43-498b-804a-75a3b8c14633",
   "metadata": {},
   "outputs": [],
   "source": [
    "# Convertir les dates en datetime\n",
    "df[\"date_occ\"] = pd.to_datetime(df[\"date_occ\"], errors=\"coerce\")\n",
    "df[\"date_rptd\"] = pd.to_datetime(df[\"date_rptd\"], errors=\"coerce\")"
   ]
  },
  {
   "cell_type": "code",
   "execution_count": null,
   "id": "c74a3123-3d11-4735-90dc-e698a28a9828",
   "metadata": {},
   "outputs": [],
   "source": [
    "# Rowkeys\n",
    "df['rowkey'] = df['occurred'] + \"_\" + df['dr_no'].astype(str)"
   ]
  },
  {
   "cell_type": "code",
   "execution_count": null,
   "id": "2542dde8-25a9-4890-9eba-3abb83cb34d3",
   "metadata": {},
   "outputs": [],
   "source": [
    "catalog = {\n",
    "    'location': ['location', 'cross_street', 'lat', 'lon', 'area_name', 'premis_desc'],\n",
    "    'crime_info': ['crm_cd_desc', 'weapon_desc', 'status_desc', 'part_1-2', 'vict_age', 'vict_sex', 'vict_descent', 'time_occ', 'mocodes']\n",
    "}"
   ]
  },
  {
   "cell_type": "code",
   "execution_count": null,
   "id": "c1c2ce9b-f19b-435d-b2a6-2486700a1ea4",
   "metadata": {},
   "outputs": [],
   "source": [
    "import happybase\n",
    "\n",
    "connection = happybase.Connection(host='hbase')\n",
    "connection.open()\n",
    "\n",
    "table = connection.table('practice:crimes')\n",
    "\n",
    "def ingestion(table, df):\n",
    "    with table.batch(batch_size=1000) as batch:\n",
    "        for _, row in df.iterrows():\n",
    "            rowkey = str(row['rowkey']).encode('utf-8')\n",
    "            hbase_data = {}\n",
    "\n",
    "            for cf, cols in catalog.items():\n",
    "                for col in cols:\n",
    "                    if pd.notna(row[col]):\n",
    "                        qualifier = f\"{cf}:{col}\".encode('utf-8')\n",
    "                        value = str(row[col]).encode('utf-8')\n",
    "                        hbase_data[qualifier] = value\n",
    "\n",
    "            batch.put(rowkey, hbase_data)\n",
    "\n",
    "    print(\"Inserted!\")"
   ]
  },
  {
   "cell_type": "code",
   "execution_count": null,
   "id": "99c8e3bb-e830-48fe-ad57-163b1bf6e5f0",
   "metadata": {},
   "outputs": [],
   "source": [
    "ingestion(table, df.head(500000))"
   ]
  },
  {
   "cell_type": "code",
   "execution_count": null,
   "id": "a2cc0c81-2a03-4fe9-9a25-16807f7b608a",
   "metadata": {},
   "outputs": [],
   "source": [
    "print(\"Lignes totales dans la table des crimes :\", len(df))"
   ]
  },
  {
   "cell_type": "code",
   "execution_count": null,
   "id": "aee8543c-9982-4308-8ca5-3a8df310b72c",
   "metadata": {},
   "outputs": [],
   "source": [
    "#All crimes in Hollywood in 2020\n",
    "crimes_hollywood= df[\n",
    "    (df[\"area_name\"].str.upper() == \"HOLLYWOOD\") &\n",
    "    (df[\"date_occ\"].dt.year == 2020)]"
   ]
  },
  {
   "cell_type": "code",
   "execution_count": null,
   "id": "41a46dd7-c9c9-410f-8b5f-8c2727d27145",
   "metadata": {},
   "outputs": [],
   "source": [
    "crimes_hollywood.head(10)"
   ]
  },
  {
   "cell_type": "code",
   "execution_count": null,
   "id": "bf9ce93e-6c4e-4651-a8f2-453db53ecea3",
   "metadata": {},
   "outputs": [],
   "source": [
    "print(\"Crimes à Hollywood en 2020 :\", len(crimes_hollywood_2020))"
   ]
  },
  {
   "cell_type": "code",
   "execution_count": null,
   "id": "72f7acfe-b0f1-4a1e-97ef-51c4446b9919",
   "metadata": {},
   "outputs": [],
   "source": [
    "# All SHOPLIFTING and VANDALISM crimes (if the label of the crime contains it) in February 2020\n",
    "\n",
    "crimes_2020 = df[\n",
    "    df[\"crm_cd_desc\"].str.contains(\"SHOPLIFTING|VANDALISM\", case=False, na=False) &\n",
    "    (df[\"date_occ\"].dt.month == 2) &\n",
    "    (df[\"date_occ\"].dt.year == 2020)\n",
    "]\n",
    "print(\"SHOPLIFTING ou VANDALISM en février 2020 :\", len(crimes_2020))\n",
    "print(crimes_2020.head(10))"
   ]
  },
  {
   "cell_type": "code",
   "execution_count": null,
   "id": "60b4d224-c32b-4fe1-824a-1df62e8da9cf",
   "metadata": {},
   "outputs": [],
   "source": [
    "#Victim age and sex for crimes of INTIMATE PARTNER - SIMPLE ASSAULT (exact match) in April 2020\n",
    "victs= df[\n",
    "    (df[\"crm_cd_desc\"] == \"intimate patner simple assault\") &\n",
    "    (df[\"date_occ\"].dt.month == 4) &\n",
    "    (df[\"date_occ\"].dt.year == 2020)]\n",
    "\n",
    "victim_info= victs[[\"vict_age\", \"vict_sex\"]]\n",
    "print(\"Victimes:\", len(victs))\n",
    "print(victim_info.head(10))"
   ]
  },
  {
   "cell_type": "code",
   "execution_count": null,
   "id": "a04b987d-b90f-48b3-943b-11d1bcb24a93",
   "metadata": {},
   "outputs": [],
   "source": [
    "# Crimes reported in 03/12/2020 12:00:00 AM\n",
    "reported = df[\n",
    "    df[\"date_rptd\"] == pd.to_datetime(\"03/12/2020 12:00:00 AM\")\n",
    "]\n",
    "print(\"Crimes reportés le 03/12/2020 :\", len(reported))\n",
    "print(reported.head(10))\n",
    "\n"
   ]
  },
  {
   "cell_type": "code",
   "execution_count": null,
   "id": "2c164912-02bf-4720-8aa6-8a6911bea161",
   "metadata": {},
   "outputs": [],
   "source": [
    "#Crimes occuring between 02/01/2020 12:00:00 AM and 02/02/2020 12:00:00 AM, in Wilshire on female victims.\n",
    "filtered_crimes = df[\n",
    "    (df[\"date_occ\"] >= pd.to_datetime(\"02/01/2020 12:00:00 AM\")) &\n",
    "    (df[\"date_occ\"] <= pd.to_datetime(\"02/02/2020 12:00:00 AM\")) &\n",
    "    (df[\"area_name\"].str.upper() == \"WILSHIRE\") &\n",
    "    (df[\"vict_sex\"].str.upper() == \"F\")\n",
    "]\n",
    "print(\"Crimes sur les femmes entre 01/02/2020 et 02/02/2020 à Wilshire :\", len(filtered_crimes))\n",
    "print(filtered_crimes.head(10))"
   ]
  },
  {
   "cell_type": "code",
   "execution_count": null,
   "id": "06cee28a-fcab-435b-bad6-0ea077f57166",
   "metadata": {},
   "outputs": [],
   "source": []
  }
 ],
 "metadata": {
  "kernelspec": {
   "display_name": "Python 3 (ipykernel)",
   "language": "python",
   "name": "python3"
  },
  "language_info": {
   "codemirror_mode": {
    "name": "ipython",
    "version": 3
   },
   "file_extension": ".py",
   "mimetype": "text/x-python",
   "name": "python",
   "nbconvert_exporter": "python",
   "pygments_lexer": "ipython3",
   "version": "3.11.6"
  }
 },
 "nbformat": 4,
 "nbformat_minor": 5
}
