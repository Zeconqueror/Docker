{
 "cells": [
  {
   "cell_type": "markdown",
   "id": "c0bb7617",
   "metadata": {},
   "source": [
    "Connecting to HBase with Happybase"
   ]
  },
  {
   "cell_type": "code",
   "execution_count": null,
   "id": "ab4374dc",
   "metadata": {
    "vscode": {
     "languageId": "plaintext"
    }
   },
   "outputs": [],
   "source": [
    "import happybase\n",
    "pip install ipykernel\n",
    "\n",
    "connection = happybase.Connection('localhost')\n",
    "connection.open()"
   ]
  }
 ],
 "metadata": {
  "language_info": {
   "name": "python"
  }
 },
 "nbformat": 4,
 "nbformat_minor": 5
}
